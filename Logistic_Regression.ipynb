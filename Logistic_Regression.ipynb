{
  "nbformat": 4,
  "nbformat_minor": 0,
  "metadata": {
    "colab": {
      "name": "Logistic_Regression.ipynb",
      "provenance": [],
      "mount_file_id": "1Ho1t9Pak5_sX7NteYfQmA-9mE114QEhR",
      "authorship_tag": "ABX9TyM3Qk9Hwsp27zmidgVw/jCj",
      "include_colab_link": true
    },
    "kernelspec": {
      "name": "python3",
      "display_name": "Python 3"
    },
    "language_info": {
      "name": "python"
    },
    "accelerator": "GPU"
  },
  "cells": [
    {
      "cell_type": "markdown",
      "metadata": {
        "id": "view-in-github",
        "colab_type": "text"
      },
      "source": [
        "<a href=\"https://colab.research.google.com/github/sahilparmar4/ML_Now-2.0/blob/main/Logistic_Regression.ipynb\" target=\"_parent\"><img src=\"https://colab.research.google.com/assets/colab-badge.svg\" alt=\"Open In Colab\"/></a>"
      ]
    },
    {
      "cell_type": "code",
      "metadata": {
        "id": "ZqDM7lZNhMHd"
      },
      "source": [
        "import os\n",
        "import numpy as np\n",
        "import pandas as pd\n",
        "import tensorflow as tf\n",
        "from tensorflow import keras"
      ],
      "execution_count": 37,
      "outputs": []
    },
    {
      "cell_type": "code",
      "metadata": {
        "colab": {
          "base_uri": "https://localhost:8080/",
          "height": 669
        },
        "id": "_cYkxLCTn7ty",
        "outputId": "3a0959df-02f1-4c64-e854-dfd6f584e6ab"
      },
      "source": [
        "trainData = pd.read_csv(\"/content/drive/MyDrive/BrainyBeam/train.csv\")\n",
        "trainData.head(20)"
      ],
      "execution_count": 38,
      "outputs": [
        {
          "output_type": "execute_result",
          "data": {
            "text/html": [
              "<div>\n",
              "<style scoped>\n",
              "    .dataframe tbody tr th:only-of-type {\n",
              "        vertical-align: middle;\n",
              "    }\n",
              "\n",
              "    .dataframe tbody tr th {\n",
              "        vertical-align: top;\n",
              "    }\n",
              "\n",
              "    .dataframe thead th {\n",
              "        text-align: right;\n",
              "    }\n",
              "</style>\n",
              "<table border=\"1\" class=\"dataframe\">\n",
              "  <thead>\n",
              "    <tr style=\"text-align: right;\">\n",
              "      <th></th>\n",
              "      <th>PassengerId</th>\n",
              "      <th>Survived</th>\n",
              "      <th>Pclass</th>\n",
              "      <th>Name</th>\n",
              "      <th>Sex</th>\n",
              "      <th>Age</th>\n",
              "      <th>SibSp</th>\n",
              "      <th>Parch</th>\n",
              "      <th>Ticket</th>\n",
              "      <th>Fare</th>\n",
              "      <th>Cabin</th>\n",
              "      <th>Embarked</th>\n",
              "    </tr>\n",
              "  </thead>\n",
              "  <tbody>\n",
              "    <tr>\n",
              "      <th>0</th>\n",
              "      <td>1</td>\n",
              "      <td>0</td>\n",
              "      <td>3</td>\n",
              "      <td>Braund, Mr. Owen Harris</td>\n",
              "      <td>male</td>\n",
              "      <td>22.0</td>\n",
              "      <td>1</td>\n",
              "      <td>0</td>\n",
              "      <td>A/5 21171</td>\n",
              "      <td>7.2500</td>\n",
              "      <td>NaN</td>\n",
              "      <td>S</td>\n",
              "    </tr>\n",
              "    <tr>\n",
              "      <th>1</th>\n",
              "      <td>2</td>\n",
              "      <td>1</td>\n",
              "      <td>1</td>\n",
              "      <td>Cumings, Mrs. John Bradley (Florence Briggs Th...</td>\n",
              "      <td>female</td>\n",
              "      <td>38.0</td>\n",
              "      <td>1</td>\n",
              "      <td>0</td>\n",
              "      <td>PC 17599</td>\n",
              "      <td>71.2833</td>\n",
              "      <td>C85</td>\n",
              "      <td>C</td>\n",
              "    </tr>\n",
              "    <tr>\n",
              "      <th>2</th>\n",
              "      <td>3</td>\n",
              "      <td>1</td>\n",
              "      <td>3</td>\n",
              "      <td>Heikkinen, Miss. Laina</td>\n",
              "      <td>female</td>\n",
              "      <td>26.0</td>\n",
              "      <td>0</td>\n",
              "      <td>0</td>\n",
              "      <td>STON/O2. 3101282</td>\n",
              "      <td>7.9250</td>\n",
              "      <td>NaN</td>\n",
              "      <td>S</td>\n",
              "    </tr>\n",
              "    <tr>\n",
              "      <th>3</th>\n",
              "      <td>4</td>\n",
              "      <td>1</td>\n",
              "      <td>1</td>\n",
              "      <td>Futrelle, Mrs. Jacques Heath (Lily May Peel)</td>\n",
              "      <td>female</td>\n",
              "      <td>35.0</td>\n",
              "      <td>1</td>\n",
              "      <td>0</td>\n",
              "      <td>113803</td>\n",
              "      <td>53.1000</td>\n",
              "      <td>C123</td>\n",
              "      <td>S</td>\n",
              "    </tr>\n",
              "    <tr>\n",
              "      <th>4</th>\n",
              "      <td>5</td>\n",
              "      <td>0</td>\n",
              "      <td>3</td>\n",
              "      <td>Allen, Mr. William Henry</td>\n",
              "      <td>male</td>\n",
              "      <td>35.0</td>\n",
              "      <td>0</td>\n",
              "      <td>0</td>\n",
              "      <td>373450</td>\n",
              "      <td>8.0500</td>\n",
              "      <td>NaN</td>\n",
              "      <td>S</td>\n",
              "    </tr>\n",
              "    <tr>\n",
              "      <th>5</th>\n",
              "      <td>6</td>\n",
              "      <td>0</td>\n",
              "      <td>3</td>\n",
              "      <td>Moran, Mr. James</td>\n",
              "      <td>male</td>\n",
              "      <td>NaN</td>\n",
              "      <td>0</td>\n",
              "      <td>0</td>\n",
              "      <td>330877</td>\n",
              "      <td>8.4583</td>\n",
              "      <td>NaN</td>\n",
              "      <td>Q</td>\n",
              "    </tr>\n",
              "    <tr>\n",
              "      <th>6</th>\n",
              "      <td>7</td>\n",
              "      <td>0</td>\n",
              "      <td>1</td>\n",
              "      <td>McCarthy, Mr. Timothy J</td>\n",
              "      <td>male</td>\n",
              "      <td>54.0</td>\n",
              "      <td>0</td>\n",
              "      <td>0</td>\n",
              "      <td>17463</td>\n",
              "      <td>51.8625</td>\n",
              "      <td>E46</td>\n",
              "      <td>S</td>\n",
              "    </tr>\n",
              "    <tr>\n",
              "      <th>7</th>\n",
              "      <td>8</td>\n",
              "      <td>0</td>\n",
              "      <td>3</td>\n",
              "      <td>Palsson, Master. Gosta Leonard</td>\n",
              "      <td>male</td>\n",
              "      <td>2.0</td>\n",
              "      <td>3</td>\n",
              "      <td>1</td>\n",
              "      <td>349909</td>\n",
              "      <td>21.0750</td>\n",
              "      <td>NaN</td>\n",
              "      <td>S</td>\n",
              "    </tr>\n",
              "    <tr>\n",
              "      <th>8</th>\n",
              "      <td>9</td>\n",
              "      <td>1</td>\n",
              "      <td>3</td>\n",
              "      <td>Johnson, Mrs. Oscar W (Elisabeth Vilhelmina Berg)</td>\n",
              "      <td>female</td>\n",
              "      <td>27.0</td>\n",
              "      <td>0</td>\n",
              "      <td>2</td>\n",
              "      <td>347742</td>\n",
              "      <td>11.1333</td>\n",
              "      <td>NaN</td>\n",
              "      <td>S</td>\n",
              "    </tr>\n",
              "    <tr>\n",
              "      <th>9</th>\n",
              "      <td>10</td>\n",
              "      <td>1</td>\n",
              "      <td>2</td>\n",
              "      <td>Nasser, Mrs. Nicholas (Adele Achem)</td>\n",
              "      <td>female</td>\n",
              "      <td>14.0</td>\n",
              "      <td>1</td>\n",
              "      <td>0</td>\n",
              "      <td>237736</td>\n",
              "      <td>30.0708</td>\n",
              "      <td>NaN</td>\n",
              "      <td>C</td>\n",
              "    </tr>\n",
              "    <tr>\n",
              "      <th>10</th>\n",
              "      <td>11</td>\n",
              "      <td>1</td>\n",
              "      <td>3</td>\n",
              "      <td>Sandstrom, Miss. Marguerite Rut</td>\n",
              "      <td>female</td>\n",
              "      <td>4.0</td>\n",
              "      <td>1</td>\n",
              "      <td>1</td>\n",
              "      <td>PP 9549</td>\n",
              "      <td>16.7000</td>\n",
              "      <td>G6</td>\n",
              "      <td>S</td>\n",
              "    </tr>\n",
              "    <tr>\n",
              "      <th>11</th>\n",
              "      <td>12</td>\n",
              "      <td>1</td>\n",
              "      <td>1</td>\n",
              "      <td>Bonnell, Miss. Elizabeth</td>\n",
              "      <td>female</td>\n",
              "      <td>58.0</td>\n",
              "      <td>0</td>\n",
              "      <td>0</td>\n",
              "      <td>113783</td>\n",
              "      <td>26.5500</td>\n",
              "      <td>C103</td>\n",
              "      <td>S</td>\n",
              "    </tr>\n",
              "    <tr>\n",
              "      <th>12</th>\n",
              "      <td>13</td>\n",
              "      <td>0</td>\n",
              "      <td>3</td>\n",
              "      <td>Saundercock, Mr. William Henry</td>\n",
              "      <td>male</td>\n",
              "      <td>20.0</td>\n",
              "      <td>0</td>\n",
              "      <td>0</td>\n",
              "      <td>A/5. 2151</td>\n",
              "      <td>8.0500</td>\n",
              "      <td>NaN</td>\n",
              "      <td>S</td>\n",
              "    </tr>\n",
              "    <tr>\n",
              "      <th>13</th>\n",
              "      <td>14</td>\n",
              "      <td>0</td>\n",
              "      <td>3</td>\n",
              "      <td>Andersson, Mr. Anders Johan</td>\n",
              "      <td>male</td>\n",
              "      <td>39.0</td>\n",
              "      <td>1</td>\n",
              "      <td>5</td>\n",
              "      <td>347082</td>\n",
              "      <td>31.2750</td>\n",
              "      <td>NaN</td>\n",
              "      <td>S</td>\n",
              "    </tr>\n",
              "    <tr>\n",
              "      <th>14</th>\n",
              "      <td>15</td>\n",
              "      <td>0</td>\n",
              "      <td>3</td>\n",
              "      <td>Vestrom, Miss. Hulda Amanda Adolfina</td>\n",
              "      <td>female</td>\n",
              "      <td>14.0</td>\n",
              "      <td>0</td>\n",
              "      <td>0</td>\n",
              "      <td>350406</td>\n",
              "      <td>7.8542</td>\n",
              "      <td>NaN</td>\n",
              "      <td>S</td>\n",
              "    </tr>\n",
              "    <tr>\n",
              "      <th>15</th>\n",
              "      <td>16</td>\n",
              "      <td>1</td>\n",
              "      <td>2</td>\n",
              "      <td>Hewlett, Mrs. (Mary D Kingcome)</td>\n",
              "      <td>female</td>\n",
              "      <td>55.0</td>\n",
              "      <td>0</td>\n",
              "      <td>0</td>\n",
              "      <td>248706</td>\n",
              "      <td>16.0000</td>\n",
              "      <td>NaN</td>\n",
              "      <td>S</td>\n",
              "    </tr>\n",
              "    <tr>\n",
              "      <th>16</th>\n",
              "      <td>17</td>\n",
              "      <td>0</td>\n",
              "      <td>3</td>\n",
              "      <td>Rice, Master. Eugene</td>\n",
              "      <td>male</td>\n",
              "      <td>2.0</td>\n",
              "      <td>4</td>\n",
              "      <td>1</td>\n",
              "      <td>382652</td>\n",
              "      <td>29.1250</td>\n",
              "      <td>NaN</td>\n",
              "      <td>Q</td>\n",
              "    </tr>\n",
              "    <tr>\n",
              "      <th>17</th>\n",
              "      <td>18</td>\n",
              "      <td>1</td>\n",
              "      <td>2</td>\n",
              "      <td>Williams, Mr. Charles Eugene</td>\n",
              "      <td>male</td>\n",
              "      <td>NaN</td>\n",
              "      <td>0</td>\n",
              "      <td>0</td>\n",
              "      <td>244373</td>\n",
              "      <td>13.0000</td>\n",
              "      <td>NaN</td>\n",
              "      <td>S</td>\n",
              "    </tr>\n",
              "    <tr>\n",
              "      <th>18</th>\n",
              "      <td>19</td>\n",
              "      <td>0</td>\n",
              "      <td>3</td>\n",
              "      <td>Vander Planke, Mrs. Julius (Emelia Maria Vande...</td>\n",
              "      <td>female</td>\n",
              "      <td>31.0</td>\n",
              "      <td>1</td>\n",
              "      <td>0</td>\n",
              "      <td>345763</td>\n",
              "      <td>18.0000</td>\n",
              "      <td>NaN</td>\n",
              "      <td>S</td>\n",
              "    </tr>\n",
              "    <tr>\n",
              "      <th>19</th>\n",
              "      <td>20</td>\n",
              "      <td>1</td>\n",
              "      <td>3</td>\n",
              "      <td>Masselmani, Mrs. Fatima</td>\n",
              "      <td>female</td>\n",
              "      <td>NaN</td>\n",
              "      <td>0</td>\n",
              "      <td>0</td>\n",
              "      <td>2649</td>\n",
              "      <td>7.2250</td>\n",
              "      <td>NaN</td>\n",
              "      <td>C</td>\n",
              "    </tr>\n",
              "  </tbody>\n",
              "</table>\n",
              "</div>"
            ],
            "text/plain": [
              "    PassengerId  Survived  Pclass  ...     Fare Cabin  Embarked\n",
              "0             1         0       3  ...   7.2500   NaN         S\n",
              "1             2         1       1  ...  71.2833   C85         C\n",
              "2             3         1       3  ...   7.9250   NaN         S\n",
              "3             4         1       1  ...  53.1000  C123         S\n",
              "4             5         0       3  ...   8.0500   NaN         S\n",
              "5             6         0       3  ...   8.4583   NaN         Q\n",
              "6             7         0       1  ...  51.8625   E46         S\n",
              "7             8         0       3  ...  21.0750   NaN         S\n",
              "8             9         1       3  ...  11.1333   NaN         S\n",
              "9            10         1       2  ...  30.0708   NaN         C\n",
              "10           11         1       3  ...  16.7000    G6         S\n",
              "11           12         1       1  ...  26.5500  C103         S\n",
              "12           13         0       3  ...   8.0500   NaN         S\n",
              "13           14         0       3  ...  31.2750   NaN         S\n",
              "14           15         0       3  ...   7.8542   NaN         S\n",
              "15           16         1       2  ...  16.0000   NaN         S\n",
              "16           17         0       3  ...  29.1250   NaN         Q\n",
              "17           18         1       2  ...  13.0000   NaN         S\n",
              "18           19         0       3  ...  18.0000   NaN         S\n",
              "19           20         1       3  ...   7.2250   NaN         C\n",
              "\n",
              "[20 rows x 12 columns]"
            ]
          },
          "metadata": {
            "tags": []
          },
          "execution_count": 38
        }
      ]
    },
    {
      "cell_type": "code",
      "metadata": {
        "colab": {
          "base_uri": "https://localhost:8080/",
          "height": 359
        },
        "id": "oHwjYWPJpFGK",
        "outputId": "a44d43d6-1531-4578-cbd7-87bbf561f0da"
      },
      "source": [
        "#trainData.replace(np.nan,0)\n",
        "trainData.fillna(0, inplace = True)\n",
        "trainData.head(10)"
      ],
      "execution_count": 39,
      "outputs": [
        {
          "output_type": "execute_result",
          "data": {
            "text/html": [
              "<div>\n",
              "<style scoped>\n",
              "    .dataframe tbody tr th:only-of-type {\n",
              "        vertical-align: middle;\n",
              "    }\n",
              "\n",
              "    .dataframe tbody tr th {\n",
              "        vertical-align: top;\n",
              "    }\n",
              "\n",
              "    .dataframe thead th {\n",
              "        text-align: right;\n",
              "    }\n",
              "</style>\n",
              "<table border=\"1\" class=\"dataframe\">\n",
              "  <thead>\n",
              "    <tr style=\"text-align: right;\">\n",
              "      <th></th>\n",
              "      <th>PassengerId</th>\n",
              "      <th>Survived</th>\n",
              "      <th>Pclass</th>\n",
              "      <th>Name</th>\n",
              "      <th>Sex</th>\n",
              "      <th>Age</th>\n",
              "      <th>SibSp</th>\n",
              "      <th>Parch</th>\n",
              "      <th>Ticket</th>\n",
              "      <th>Fare</th>\n",
              "      <th>Cabin</th>\n",
              "      <th>Embarked</th>\n",
              "    </tr>\n",
              "  </thead>\n",
              "  <tbody>\n",
              "    <tr>\n",
              "      <th>0</th>\n",
              "      <td>1</td>\n",
              "      <td>0</td>\n",
              "      <td>3</td>\n",
              "      <td>Braund, Mr. Owen Harris</td>\n",
              "      <td>male</td>\n",
              "      <td>22.0</td>\n",
              "      <td>1</td>\n",
              "      <td>0</td>\n",
              "      <td>A/5 21171</td>\n",
              "      <td>7.2500</td>\n",
              "      <td>0</td>\n",
              "      <td>S</td>\n",
              "    </tr>\n",
              "    <tr>\n",
              "      <th>1</th>\n",
              "      <td>2</td>\n",
              "      <td>1</td>\n",
              "      <td>1</td>\n",
              "      <td>Cumings, Mrs. John Bradley (Florence Briggs Th...</td>\n",
              "      <td>female</td>\n",
              "      <td>38.0</td>\n",
              "      <td>1</td>\n",
              "      <td>0</td>\n",
              "      <td>PC 17599</td>\n",
              "      <td>71.2833</td>\n",
              "      <td>C85</td>\n",
              "      <td>C</td>\n",
              "    </tr>\n",
              "    <tr>\n",
              "      <th>2</th>\n",
              "      <td>3</td>\n",
              "      <td>1</td>\n",
              "      <td>3</td>\n",
              "      <td>Heikkinen, Miss. Laina</td>\n",
              "      <td>female</td>\n",
              "      <td>26.0</td>\n",
              "      <td>0</td>\n",
              "      <td>0</td>\n",
              "      <td>STON/O2. 3101282</td>\n",
              "      <td>7.9250</td>\n",
              "      <td>0</td>\n",
              "      <td>S</td>\n",
              "    </tr>\n",
              "    <tr>\n",
              "      <th>3</th>\n",
              "      <td>4</td>\n",
              "      <td>1</td>\n",
              "      <td>1</td>\n",
              "      <td>Futrelle, Mrs. Jacques Heath (Lily May Peel)</td>\n",
              "      <td>female</td>\n",
              "      <td>35.0</td>\n",
              "      <td>1</td>\n",
              "      <td>0</td>\n",
              "      <td>113803</td>\n",
              "      <td>53.1000</td>\n",
              "      <td>C123</td>\n",
              "      <td>S</td>\n",
              "    </tr>\n",
              "    <tr>\n",
              "      <th>4</th>\n",
              "      <td>5</td>\n",
              "      <td>0</td>\n",
              "      <td>3</td>\n",
              "      <td>Allen, Mr. William Henry</td>\n",
              "      <td>male</td>\n",
              "      <td>35.0</td>\n",
              "      <td>0</td>\n",
              "      <td>0</td>\n",
              "      <td>373450</td>\n",
              "      <td>8.0500</td>\n",
              "      <td>0</td>\n",
              "      <td>S</td>\n",
              "    </tr>\n",
              "    <tr>\n",
              "      <th>5</th>\n",
              "      <td>6</td>\n",
              "      <td>0</td>\n",
              "      <td>3</td>\n",
              "      <td>Moran, Mr. James</td>\n",
              "      <td>male</td>\n",
              "      <td>0.0</td>\n",
              "      <td>0</td>\n",
              "      <td>0</td>\n",
              "      <td>330877</td>\n",
              "      <td>8.4583</td>\n",
              "      <td>0</td>\n",
              "      <td>Q</td>\n",
              "    </tr>\n",
              "    <tr>\n",
              "      <th>6</th>\n",
              "      <td>7</td>\n",
              "      <td>0</td>\n",
              "      <td>1</td>\n",
              "      <td>McCarthy, Mr. Timothy J</td>\n",
              "      <td>male</td>\n",
              "      <td>54.0</td>\n",
              "      <td>0</td>\n",
              "      <td>0</td>\n",
              "      <td>17463</td>\n",
              "      <td>51.8625</td>\n",
              "      <td>E46</td>\n",
              "      <td>S</td>\n",
              "    </tr>\n",
              "    <tr>\n",
              "      <th>7</th>\n",
              "      <td>8</td>\n",
              "      <td>0</td>\n",
              "      <td>3</td>\n",
              "      <td>Palsson, Master. Gosta Leonard</td>\n",
              "      <td>male</td>\n",
              "      <td>2.0</td>\n",
              "      <td>3</td>\n",
              "      <td>1</td>\n",
              "      <td>349909</td>\n",
              "      <td>21.0750</td>\n",
              "      <td>0</td>\n",
              "      <td>S</td>\n",
              "    </tr>\n",
              "    <tr>\n",
              "      <th>8</th>\n",
              "      <td>9</td>\n",
              "      <td>1</td>\n",
              "      <td>3</td>\n",
              "      <td>Johnson, Mrs. Oscar W (Elisabeth Vilhelmina Berg)</td>\n",
              "      <td>female</td>\n",
              "      <td>27.0</td>\n",
              "      <td>0</td>\n",
              "      <td>2</td>\n",
              "      <td>347742</td>\n",
              "      <td>11.1333</td>\n",
              "      <td>0</td>\n",
              "      <td>S</td>\n",
              "    </tr>\n",
              "    <tr>\n",
              "      <th>9</th>\n",
              "      <td>10</td>\n",
              "      <td>1</td>\n",
              "      <td>2</td>\n",
              "      <td>Nasser, Mrs. Nicholas (Adele Achem)</td>\n",
              "      <td>female</td>\n",
              "      <td>14.0</td>\n",
              "      <td>1</td>\n",
              "      <td>0</td>\n",
              "      <td>237736</td>\n",
              "      <td>30.0708</td>\n",
              "      <td>0</td>\n",
              "      <td>C</td>\n",
              "    </tr>\n",
              "  </tbody>\n",
              "</table>\n",
              "</div>"
            ],
            "text/plain": [
              "   PassengerId  Survived  Pclass  ...     Fare Cabin  Embarked\n",
              "0            1         0       3  ...   7.2500     0         S\n",
              "1            2         1       1  ...  71.2833   C85         C\n",
              "2            3         1       3  ...   7.9250     0         S\n",
              "3            4         1       1  ...  53.1000  C123         S\n",
              "4            5         0       3  ...   8.0500     0         S\n",
              "5            6         0       3  ...   8.4583     0         Q\n",
              "6            7         0       1  ...  51.8625   E46         S\n",
              "7            8         0       3  ...  21.0750     0         S\n",
              "8            9         1       3  ...  11.1333     0         S\n",
              "9           10         1       2  ...  30.0708     0         C\n",
              "\n",
              "[10 rows x 12 columns]"
            ]
          },
          "metadata": {
            "tags": []
          },
          "execution_count": 39
        }
      ]
    },
    {
      "cell_type": "code",
      "metadata": {
        "colab": {
          "base_uri": "https://localhost:8080/"
        },
        "id": "Jla03YGBoFgY",
        "outputId": "6853bc5e-1bb3-455c-b50f-f9404d110718"
      },
      "source": [
        "for i in trainData:\n",
        "  print(i, end = \" \")"
      ],
      "execution_count": 40,
      "outputs": [
        {
          "output_type": "stream",
          "text": [
            "PassengerId Survived Pclass Name Sex Age SibSp Parch Ticket Fare Cabin Embarked "
          ],
          "name": "stdout"
        }
      ]
    },
    {
      "cell_type": "code",
      "metadata": {
        "colab": {
          "base_uri": "https://localhost:8080/"
        },
        "id": "YWuGGjHmpSGS",
        "outputId": "6c303d12-9d72-4783-820e-6185a772278e"
      },
      "source": [
        "print(f'Pclass: {trainData.Pclass.unique()}')\n",
        "print(f'Sex: {trainData.Sex.unique()}')\n",
        "print(f'SibSp: {trainData.SibSp.unique()}') # siblings or spouse\n",
        "print(f'Parch: {trainData.Parch.unique()}') # Parents or Children\n",
        "print(f'Embarked: {trainData.Embarked.unique()}')\n",
        "#print(f'guardian: {trainData.guardian.unique()}')"
      ],
      "execution_count": 41,
      "outputs": [
        {
          "output_type": "stream",
          "text": [
            "Pclass: [3 1 2]\n",
            "Sex: ['male' 'female']\n",
            "SibSp: [1 0 3 4 2 5 8]\n",
            "Parch: [0 1 2 5 3 4 6]\n",
            "Embarked: ['S' 'C' 'Q' 0]\n"
          ],
          "name": "stdout"
        }
      ]
    },
    {
      "cell_type": "code",
      "metadata": {
        "colab": {
          "base_uri": "https://localhost:8080/",
          "height": 359
        },
        "id": "qwa-z1Xxpg63",
        "outputId": "97090947-bee1-4a20-c35d-8f266e047ae9"
      },
      "source": [
        "#Converting categorical to numerical\n",
        "\n",
        "trainData['Sex'] = trainData['Sex'].apply({'male':1, 'female':0}.get)\n",
        "trainData['Embarked'] = trainData['Embarked'].apply({'S':1, 'C':2, 'Q':3, np.nan:0}.get)\n",
        "trainData.head(10)"
      ],
      "execution_count": 42,
      "outputs": [
        {
          "output_type": "execute_result",
          "data": {
            "text/html": [
              "<div>\n",
              "<style scoped>\n",
              "    .dataframe tbody tr th:only-of-type {\n",
              "        vertical-align: middle;\n",
              "    }\n",
              "\n",
              "    .dataframe tbody tr th {\n",
              "        vertical-align: top;\n",
              "    }\n",
              "\n",
              "    .dataframe thead th {\n",
              "        text-align: right;\n",
              "    }\n",
              "</style>\n",
              "<table border=\"1\" class=\"dataframe\">\n",
              "  <thead>\n",
              "    <tr style=\"text-align: right;\">\n",
              "      <th></th>\n",
              "      <th>PassengerId</th>\n",
              "      <th>Survived</th>\n",
              "      <th>Pclass</th>\n",
              "      <th>Name</th>\n",
              "      <th>Sex</th>\n",
              "      <th>Age</th>\n",
              "      <th>SibSp</th>\n",
              "      <th>Parch</th>\n",
              "      <th>Ticket</th>\n",
              "      <th>Fare</th>\n",
              "      <th>Cabin</th>\n",
              "      <th>Embarked</th>\n",
              "    </tr>\n",
              "  </thead>\n",
              "  <tbody>\n",
              "    <tr>\n",
              "      <th>0</th>\n",
              "      <td>1</td>\n",
              "      <td>0</td>\n",
              "      <td>3</td>\n",
              "      <td>Braund, Mr. Owen Harris</td>\n",
              "      <td>1</td>\n",
              "      <td>22.0</td>\n",
              "      <td>1</td>\n",
              "      <td>0</td>\n",
              "      <td>A/5 21171</td>\n",
              "      <td>7.2500</td>\n",
              "      <td>0</td>\n",
              "      <td>1.0</td>\n",
              "    </tr>\n",
              "    <tr>\n",
              "      <th>1</th>\n",
              "      <td>2</td>\n",
              "      <td>1</td>\n",
              "      <td>1</td>\n",
              "      <td>Cumings, Mrs. John Bradley (Florence Briggs Th...</td>\n",
              "      <td>0</td>\n",
              "      <td>38.0</td>\n",
              "      <td>1</td>\n",
              "      <td>0</td>\n",
              "      <td>PC 17599</td>\n",
              "      <td>71.2833</td>\n",
              "      <td>C85</td>\n",
              "      <td>2.0</td>\n",
              "    </tr>\n",
              "    <tr>\n",
              "      <th>2</th>\n",
              "      <td>3</td>\n",
              "      <td>1</td>\n",
              "      <td>3</td>\n",
              "      <td>Heikkinen, Miss. Laina</td>\n",
              "      <td>0</td>\n",
              "      <td>26.0</td>\n",
              "      <td>0</td>\n",
              "      <td>0</td>\n",
              "      <td>STON/O2. 3101282</td>\n",
              "      <td>7.9250</td>\n",
              "      <td>0</td>\n",
              "      <td>1.0</td>\n",
              "    </tr>\n",
              "    <tr>\n",
              "      <th>3</th>\n",
              "      <td>4</td>\n",
              "      <td>1</td>\n",
              "      <td>1</td>\n",
              "      <td>Futrelle, Mrs. Jacques Heath (Lily May Peel)</td>\n",
              "      <td>0</td>\n",
              "      <td>35.0</td>\n",
              "      <td>1</td>\n",
              "      <td>0</td>\n",
              "      <td>113803</td>\n",
              "      <td>53.1000</td>\n",
              "      <td>C123</td>\n",
              "      <td>1.0</td>\n",
              "    </tr>\n",
              "    <tr>\n",
              "      <th>4</th>\n",
              "      <td>5</td>\n",
              "      <td>0</td>\n",
              "      <td>3</td>\n",
              "      <td>Allen, Mr. William Henry</td>\n",
              "      <td>1</td>\n",
              "      <td>35.0</td>\n",
              "      <td>0</td>\n",
              "      <td>0</td>\n",
              "      <td>373450</td>\n",
              "      <td>8.0500</td>\n",
              "      <td>0</td>\n",
              "      <td>1.0</td>\n",
              "    </tr>\n",
              "    <tr>\n",
              "      <th>5</th>\n",
              "      <td>6</td>\n",
              "      <td>0</td>\n",
              "      <td>3</td>\n",
              "      <td>Moran, Mr. James</td>\n",
              "      <td>1</td>\n",
              "      <td>0.0</td>\n",
              "      <td>0</td>\n",
              "      <td>0</td>\n",
              "      <td>330877</td>\n",
              "      <td>8.4583</td>\n",
              "      <td>0</td>\n",
              "      <td>3.0</td>\n",
              "    </tr>\n",
              "    <tr>\n",
              "      <th>6</th>\n",
              "      <td>7</td>\n",
              "      <td>0</td>\n",
              "      <td>1</td>\n",
              "      <td>McCarthy, Mr. Timothy J</td>\n",
              "      <td>1</td>\n",
              "      <td>54.0</td>\n",
              "      <td>0</td>\n",
              "      <td>0</td>\n",
              "      <td>17463</td>\n",
              "      <td>51.8625</td>\n",
              "      <td>E46</td>\n",
              "      <td>1.0</td>\n",
              "    </tr>\n",
              "    <tr>\n",
              "      <th>7</th>\n",
              "      <td>8</td>\n",
              "      <td>0</td>\n",
              "      <td>3</td>\n",
              "      <td>Palsson, Master. Gosta Leonard</td>\n",
              "      <td>1</td>\n",
              "      <td>2.0</td>\n",
              "      <td>3</td>\n",
              "      <td>1</td>\n",
              "      <td>349909</td>\n",
              "      <td>21.0750</td>\n",
              "      <td>0</td>\n",
              "      <td>1.0</td>\n",
              "    </tr>\n",
              "    <tr>\n",
              "      <th>8</th>\n",
              "      <td>9</td>\n",
              "      <td>1</td>\n",
              "      <td>3</td>\n",
              "      <td>Johnson, Mrs. Oscar W (Elisabeth Vilhelmina Berg)</td>\n",
              "      <td>0</td>\n",
              "      <td>27.0</td>\n",
              "      <td>0</td>\n",
              "      <td>2</td>\n",
              "      <td>347742</td>\n",
              "      <td>11.1333</td>\n",
              "      <td>0</td>\n",
              "      <td>1.0</td>\n",
              "    </tr>\n",
              "    <tr>\n",
              "      <th>9</th>\n",
              "      <td>10</td>\n",
              "      <td>1</td>\n",
              "      <td>2</td>\n",
              "      <td>Nasser, Mrs. Nicholas (Adele Achem)</td>\n",
              "      <td>0</td>\n",
              "      <td>14.0</td>\n",
              "      <td>1</td>\n",
              "      <td>0</td>\n",
              "      <td>237736</td>\n",
              "      <td>30.0708</td>\n",
              "      <td>0</td>\n",
              "      <td>2.0</td>\n",
              "    </tr>\n",
              "  </tbody>\n",
              "</table>\n",
              "</div>"
            ],
            "text/plain": [
              "   PassengerId  Survived  Pclass  ...     Fare  Cabin  Embarked\n",
              "0            1         0       3  ...   7.2500      0       1.0\n",
              "1            2         1       1  ...  71.2833    C85       2.0\n",
              "2            3         1       3  ...   7.9250      0       1.0\n",
              "3            4         1       1  ...  53.1000   C123       1.0\n",
              "4            5         0       3  ...   8.0500      0       1.0\n",
              "5            6         0       3  ...   8.4583      0       3.0\n",
              "6            7         0       1  ...  51.8625    E46       1.0\n",
              "7            8         0       3  ...  21.0750      0       1.0\n",
              "8            9         1       3  ...  11.1333      0       1.0\n",
              "9           10         1       2  ...  30.0708      0       2.0\n",
              "\n",
              "[10 rows x 12 columns]"
            ]
          },
          "metadata": {
            "tags": []
          },
          "execution_count": 42
        }
      ]
    },
    {
      "cell_type": "code",
      "metadata": {
        "colab": {
          "base_uri": "https://localhost:8080/",
          "height": 359
        },
        "id": "7SAwApPVpoXE",
        "outputId": "fe98058e-f0c3-4d64-9513-5055ab01d2a9"
      },
      "source": [
        "trainData_updated = trainData[['Pclass', 'Sex', 'SibSp', 'Parch', 'Fare', 'Embarked', 'Survived']]\n",
        "trainData_updated.head(10)"
      ],
      "execution_count": 43,
      "outputs": [
        {
          "output_type": "execute_result",
          "data": {
            "text/html": [
              "<div>\n",
              "<style scoped>\n",
              "    .dataframe tbody tr th:only-of-type {\n",
              "        vertical-align: middle;\n",
              "    }\n",
              "\n",
              "    .dataframe tbody tr th {\n",
              "        vertical-align: top;\n",
              "    }\n",
              "\n",
              "    .dataframe thead th {\n",
              "        text-align: right;\n",
              "    }\n",
              "</style>\n",
              "<table border=\"1\" class=\"dataframe\">\n",
              "  <thead>\n",
              "    <tr style=\"text-align: right;\">\n",
              "      <th></th>\n",
              "      <th>Pclass</th>\n",
              "      <th>Sex</th>\n",
              "      <th>SibSp</th>\n",
              "      <th>Parch</th>\n",
              "      <th>Fare</th>\n",
              "      <th>Embarked</th>\n",
              "      <th>Survived</th>\n",
              "    </tr>\n",
              "  </thead>\n",
              "  <tbody>\n",
              "    <tr>\n",
              "      <th>0</th>\n",
              "      <td>3</td>\n",
              "      <td>1</td>\n",
              "      <td>1</td>\n",
              "      <td>0</td>\n",
              "      <td>7.2500</td>\n",
              "      <td>1.0</td>\n",
              "      <td>0</td>\n",
              "    </tr>\n",
              "    <tr>\n",
              "      <th>1</th>\n",
              "      <td>1</td>\n",
              "      <td>0</td>\n",
              "      <td>1</td>\n",
              "      <td>0</td>\n",
              "      <td>71.2833</td>\n",
              "      <td>2.0</td>\n",
              "      <td>1</td>\n",
              "    </tr>\n",
              "    <tr>\n",
              "      <th>2</th>\n",
              "      <td>3</td>\n",
              "      <td>0</td>\n",
              "      <td>0</td>\n",
              "      <td>0</td>\n",
              "      <td>7.9250</td>\n",
              "      <td>1.0</td>\n",
              "      <td>1</td>\n",
              "    </tr>\n",
              "    <tr>\n",
              "      <th>3</th>\n",
              "      <td>1</td>\n",
              "      <td>0</td>\n",
              "      <td>1</td>\n",
              "      <td>0</td>\n",
              "      <td>53.1000</td>\n",
              "      <td>1.0</td>\n",
              "      <td>1</td>\n",
              "    </tr>\n",
              "    <tr>\n",
              "      <th>4</th>\n",
              "      <td>3</td>\n",
              "      <td>1</td>\n",
              "      <td>0</td>\n",
              "      <td>0</td>\n",
              "      <td>8.0500</td>\n",
              "      <td>1.0</td>\n",
              "      <td>0</td>\n",
              "    </tr>\n",
              "    <tr>\n",
              "      <th>5</th>\n",
              "      <td>3</td>\n",
              "      <td>1</td>\n",
              "      <td>0</td>\n",
              "      <td>0</td>\n",
              "      <td>8.4583</td>\n",
              "      <td>3.0</td>\n",
              "      <td>0</td>\n",
              "    </tr>\n",
              "    <tr>\n",
              "      <th>6</th>\n",
              "      <td>1</td>\n",
              "      <td>1</td>\n",
              "      <td>0</td>\n",
              "      <td>0</td>\n",
              "      <td>51.8625</td>\n",
              "      <td>1.0</td>\n",
              "      <td>0</td>\n",
              "    </tr>\n",
              "    <tr>\n",
              "      <th>7</th>\n",
              "      <td>3</td>\n",
              "      <td>1</td>\n",
              "      <td>3</td>\n",
              "      <td>1</td>\n",
              "      <td>21.0750</td>\n",
              "      <td>1.0</td>\n",
              "      <td>0</td>\n",
              "    </tr>\n",
              "    <tr>\n",
              "      <th>8</th>\n",
              "      <td>3</td>\n",
              "      <td>0</td>\n",
              "      <td>0</td>\n",
              "      <td>2</td>\n",
              "      <td>11.1333</td>\n",
              "      <td>1.0</td>\n",
              "      <td>1</td>\n",
              "    </tr>\n",
              "    <tr>\n",
              "      <th>9</th>\n",
              "      <td>2</td>\n",
              "      <td>0</td>\n",
              "      <td>1</td>\n",
              "      <td>0</td>\n",
              "      <td>30.0708</td>\n",
              "      <td>2.0</td>\n",
              "      <td>1</td>\n",
              "    </tr>\n",
              "  </tbody>\n",
              "</table>\n",
              "</div>"
            ],
            "text/plain": [
              "   Pclass  Sex  SibSp  Parch     Fare  Embarked  Survived\n",
              "0       3    1      1      0   7.2500       1.0         0\n",
              "1       1    0      1      0  71.2833       2.0         1\n",
              "2       3    0      0      0   7.9250       1.0         1\n",
              "3       1    0      1      0  53.1000       1.0         1\n",
              "4       3    1      0      0   8.0500       1.0         0\n",
              "5       3    1      0      0   8.4583       3.0         0\n",
              "6       1    1      0      0  51.8625       1.0         0\n",
              "7       3    1      3      1  21.0750       1.0         0\n",
              "8       3    0      0      2  11.1333       1.0         1\n",
              "9       2    0      1      0  30.0708       2.0         1"
            ]
          },
          "metadata": {
            "tags": []
          },
          "execution_count": 43
        }
      ]
    },
    {
      "cell_type": "code",
      "metadata": {
        "id": "4ViCO_Z0prZH"
      },
      "source": [
        "#trainData_updated.to_csv('updatedTrainData.csv')"
      ],
      "execution_count": 44,
      "outputs": []
    },
    {
      "cell_type": "code",
      "metadata": {
        "colab": {
          "base_uri": "https://localhost:8080/",
          "height": 153
        },
        "id": "PWKIOFudpy2_",
        "outputId": "45f65298-ab6f-4706-ba4b-c5547fbb84ac"
      },
      "source": [
        "#To visualize our results \n",
        "\n",
        "import matplotlib.pyplot as plt\n",
        "import seaborn as sns\n",
        "sns.palplot(sns.color_palette(\"PuOr\"))\n",
        "pal = sns.color_palette('PuOr', 6)\n",
        "pal.as_hex()\n",
        "plt.style.use(['seaborn'])\n",
        "sns_colors = [\"#c6690c\", \"#664697\"]\n",
        "sns.set_palette(sns_colors)\n",
        "sns.palplot(sns.color_palette(sns_colors))"
      ],
      "execution_count": 45,
      "outputs": [
        {
          "output_type": "display_data",
          "data": {
            "image/png": "[encoded data removed]",
            "text/plain": [
              "<Figure size 432x72 with 1 Axes>"
            ]
          },
          "metadata": {
            "tags": []
          }
        },
        {
          "output_type": "display_data",
          "data": {
            "image/png": "[encoded data removed]",
            "text/plain": [
              "<Figure size 144x72 with 1 Axes>"
            ]
          },
          "metadata": {
            "tags": []
          }
        }
      ]
    },
    {
      "cell_type": "code",
      "metadata": {
        "colab": {
          "base_uri": "https://localhost:8080/"
        },
        "id": "g8DIeGbdp3Op",
        "outputId": "6520c6dd-2735-481b-f522-37cf3a6ac2ea"
      },
      "source": [
        "print(trainData_updated.columns)"
      ],
      "execution_count": 46,
      "outputs": [
        {
          "output_type": "stream",
          "text": [
            "Index(['Pclass', 'Sex', 'SibSp', 'Parch', 'Fare', 'Embarked', 'Survived'], dtype='object')\n"
          ],
          "name": "stdout"
        }
      ]
    },
    {
      "cell_type": "code",
      "metadata": {
        "colab": {
          "base_uri": "https://localhost:8080/",
          "height": 1000
        },
        "id": "Z2pQW7ckp6Ls",
        "outputId": "c08e7bfc-b330-4b6b-c106-de81b0e235ee"
      },
      "source": [
        "sns.pairplot(trainData_updated,\n",
        "             x_vars=['Pclass', 'Sex', 'SibSp', 'Parch', 'Fare', 'Embarked'],\n",
        "             y_vars=['Pclass', 'Sex', 'SibSp', 'Parch', 'Fare', 'Embarked'],\n",
        "             hue='Survived', diag_kind='kde')"
      ],
      "execution_count": 47,
      "outputs": [
        {
          "output_type": "execute_result",
          "data": {
            "text/plain": [
              "<seaborn.axisgrid.PairGrid at 0x7fe4926718d0>"
            ]
          },
          "metadata": {
            "tags": []
          },
          "execution_count": 47
        },
        {
          "output_type": "display_data",
          "data": {
            "image/png": "[encoded data removed]",
            "text/plain": [
              "<Figure size 1126.75x1080 with 42 Axes>"
            ]
          },
          "metadata": {
            "tags": []
          }
        }
      ]
    },
    {
      "cell_type": "code",
      "metadata": {
        "colab": {
          "base_uri": "https://localhost:8080/"
        },
        "id": "0zA2_72Lp-H3",
        "outputId": "08c20bf2-ecc4-45ab-f50c-51738cd1290d"
      },
      "source": [
        "trainData_updated.columns"
      ],
      "execution_count": 48,
      "outputs": [
        {
          "output_type": "execute_result",
          "data": {
            "text/plain": [
              "Index(['Pclass', 'Sex', 'SibSp', 'Parch', 'Fare', 'Embarked', 'Survived'], dtype='object')"
            ]
          },
          "metadata": {
            "tags": []
          },
          "execution_count": 48
        }
      ]
    },
    {
      "cell_type": "code",
      "metadata": {
        "colab": {
          "base_uri": "https://localhost:8080/",
          "height": 1000
        },
        "id": "l31kcMc1qCjF",
        "outputId": "901c2b8d-12fd-41e7-a84f-9e5dd6b16598"
      },
      "source": [
        "#strip plot\n",
        "\n",
        "fig, axarr = plt.subplots(2, 2, figsize=(20, 20))\n",
        "sns.stripplot(y='SibSp',x='Survived', data=trainData_updated, hue=\"Survived\", ax=axarr[0][0])\n",
        "sns.stripplot(y='Parch',x='Survived', data=trainData_updated, hue=\"Survived\", ax=axarr[0][1])\n",
        "sns.stripplot(y='Pclass',x='Survived', data=trainData_updated, hue=\"Survived\", ax=axarr[1][0])\n",
        "sns.stripplot(y='Sex',x='Survived', data=trainData_updated, hue=\"Survived\", ax=axarr[1][1])"
      ],
      "execution_count": 49,
      "outputs": [
        {
          "output_type": "execute_result",
          "data": {
            "text/plain": [
              "<matplotlib.axes._subplots.AxesSubplot at 0x7fe487146650>"
            ]
          },
          "metadata": {
            "tags": []
          },
          "execution_count": 49
        },
        {
          "output_type": "display_data",
          "data": {
            "image/png": "[encoded data removed]",
            "text/plain": [
              "<Figure size 1440x1440 with 4 Axes>"
            ]
          },
          "metadata": {
            "tags": []
          }
        }
      ]
    },
    {
      "cell_type": "code",
      "metadata": {
        "id": "nClFB-VHqHbn"
      },
      "source": [
        "trainDataset = trainData_updated.sample(frac=0.8, random_state=0)\n",
        "testDataset = trainData_updated.drop(trainDataset.index)"
      ],
      "execution_count": 50,
      "outputs": []
    },
    {
      "cell_type": "code",
      "metadata": {
        "colab": {
          "base_uri": "https://localhost:8080/"
        },
        "id": "-95ok029qLSL",
        "outputId": "48319dfb-d5f1-4f64-e5af-99e09d76d602"
      },
      "source": [
        "print(trainDataset.shape)\n",
        "print(testDataset.shape)\n",
        "print(trainDataset.head())\n",
        "print(testDataset.head())"
      ],
      "execution_count": 51,
      "outputs": [
        {
          "output_type": "stream",
          "text": [
            "(713, 7)\n",
            "(178, 7)\n",
            "     Pclass  Sex  SibSp  Parch      Fare  Embarked  Survived\n",
            "495       3    1      0      0   14.4583       2.0         0\n",
            "648       3    1      0      0    7.5500       1.0         0\n",
            "278       3    1      4      1   29.1250       3.0         0\n",
            "31        1    0      1      0  146.5208       2.0         1\n",
            "255       3    0      0      2   15.2458       2.0         1\n",
            "    Pclass  Sex  SibSp  Parch     Fare  Embarked  Survived\n",
            "9        2    0      1      0  30.0708       2.0         1\n",
            "11       1    0      0      0  26.5500       1.0         1\n",
            "19       3    0      0      0   7.2250       2.0         1\n",
            "23       1    1      0      0  35.5000       1.0         1\n",
            "28       3    0      0      0   7.8792       3.0         1\n"
          ],
          "name": "stdout"
        }
      ]
    },
    {
      "cell_type": "code",
      "metadata": {
        "colab": {
          "base_uri": "https://localhost:8080/"
        },
        "id": "97zYOGKjqNkg",
        "outputId": "bb5412b3-a4d8-427f-c890-8965f5fdddcd"
      },
      "source": [
        "trainFeatures = trainDataset.copy()\n",
        "testFeatures = testDataset.copy()\n",
        "\n",
        "print(trainFeatures.head())\n",
        "print(testFeatures.head())"
      ],
      "execution_count": 52,
      "outputs": [
        {
          "output_type": "stream",
          "text": [
            "     Pclass  Sex  SibSp  Parch      Fare  Embarked  Survived\n",
            "495       3    1      0      0   14.4583       2.0         0\n",
            "648       3    1      0      0    7.5500       1.0         0\n",
            "278       3    1      4      1   29.1250       3.0         0\n",
            "31        1    0      1      0  146.5208       2.0         1\n",
            "255       3    0      0      2   15.2458       2.0         1\n",
            "    Pclass  Sex  SibSp  Parch     Fare  Embarked  Survived\n",
            "9        2    0      1      0  30.0708       2.0         1\n",
            "11       1    0      0      0  26.5500       1.0         1\n",
            "19       3    0      0      0   7.2250       2.0         1\n",
            "23       1    1      0      0  35.5000       1.0         1\n",
            "28       3    0      0      0   7.8792       3.0         1\n"
          ],
          "name": "stdout"
        }
      ]
    },
    {
      "cell_type": "code",
      "metadata": {
        "colab": {
          "base_uri": "https://localhost:8080/"
        },
        "id": "W2onPPO0qSEi",
        "outputId": "b436b475-db7f-4dc1-e502-e25fae3628e1"
      },
      "source": [
        "trainLabels = trainFeatures.pop('Survived')\n",
        "testLabels = testFeatures.pop('Survived')\n",
        "\n",
        "print(trainLabels.head())\n",
        "print(testLabels.head())"
      ],
      "execution_count": 53,
      "outputs": [
        {
          "output_type": "stream",
          "text": [
            "495    0\n",
            "648    0\n",
            "278    0\n",
            "31     1\n",
            "255    1\n",
            "Name: Survived, dtype: int64\n",
            "9     1\n",
            "11    1\n",
            "19    1\n",
            "23    1\n",
            "28    1\n",
            "Name: Survived, dtype: int64\n"
          ],
          "name": "stdout"
        }
      ]
    },
    {
      "cell_type": "code",
      "metadata": {
        "colab": {
          "base_uri": "https://localhost:8080/"
        },
        "id": "ySluQHhHqe-z",
        "outputId": "23bd2f64-d5ce-4dbb-9f4b-0415b4c60998"
      },
      "source": [
        "print(trainFeatures.head())\n",
        "print(testFeatures.head())"
      ],
      "execution_count": 54,
      "outputs": [
        {
          "output_type": "stream",
          "text": [
            "     Pclass  Sex  SibSp  Parch      Fare  Embarked\n",
            "495       3    1      0      0   14.4583       2.0\n",
            "648       3    1      0      0    7.5500       1.0\n",
            "278       3    1      4      1   29.1250       3.0\n",
            "31        1    0      1      0  146.5208       2.0\n",
            "255       3    0      0      2   15.2458       2.0\n",
            "    Pclass  Sex  SibSp  Parch     Fare  Embarked\n",
            "9        2    0      1      0  30.0708       2.0\n",
            "11       1    0      0      0  26.5500       1.0\n",
            "19       3    0      0      0   7.2250       2.0\n",
            "23       1    1      0      0  35.5000       1.0\n",
            "28       3    0      0      0   7.8792       3.0\n"
          ],
          "name": "stdout"
        }
      ]
    },
    {
      "cell_type": "code",
      "metadata": {
        "colab": {
          "base_uri": "https://localhost:8080/"
        },
        "id": "tNhNKnXTqiHE",
        "outputId": "93cb9089-e290-4ece-fccb-655475294a1b"
      },
      "source": [
        "print(len(trainFeatures.columns))"
      ],
      "execution_count": 55,
      "outputs": [
        {
          "output_type": "stream",
          "text": [
            "6\n"
          ],
          "name": "stdout"
        }
      ]
    },
    {
      "cell_type": "code",
      "metadata": {
        "colab": {
          "base_uri": "https://localhost:8080/"
        },
        "id": "Gw4u20Bnqonl",
        "outputId": "0ea95edd-e3b6-41f2-86ca-98d96cd4a8dd"
      },
      "source": [
        "import math\n",
        "numFeatures = len(trainFeatures.columns)\n",
        "inputNeurons = math.ceil(2*(numFeatures)/3)\n",
        "print(inputNeurons)"
      ],
      "execution_count": 56,
      "outputs": [
        {
          "output_type": "stream",
          "text": [
            "4\n"
          ],
          "name": "stdout"
        }
      ]
    },
    {
      "cell_type": "code",
      "metadata": {
        "id": "Txt-nqcrqrFI"
      },
      "source": [
        "# ---- Model-1 ----\n",
        "model = tf.keras.Sequential([\n",
        "                             tf.keras.layers.Dense(units = inputNeurons, activation = 'relu'),\n",
        "                             tf.keras.layers.Dense(units = 2*inputNeurons, activation='relu'),\n",
        "                             tf.keras.layers.Dense(1, activation='sigmoid')\n",
        "])"
      ],
      "execution_count": 57,
      "outputs": []
    },
    {
      "cell_type": "code",
      "metadata": {
        "colab": {
          "base_uri": "https://localhost:8080/"
        },
        "id": "93OxHWpcqtct",
        "outputId": "9c994a31-c924-452b-ce8b-731862d5c65a"
      },
      "source": [
        "model.compile(optimizer=tf.keras.optimizers.RMSprop(lr=0.001), loss='binary_crossentropy', metrics=['accuracy'])"
      ],
      "execution_count": 58,
      "outputs": [
        {
          "output_type": "stream",
          "text": [
            "/usr/local/lib/python3.7/dist-packages/tensorflow/python/keras/optimizer_v2/optimizer_v2.py:375: UserWarning: The `lr` argument is deprecated, use `learning_rate` instead.\n",
            "  \"The `lr` argument is deprecated, use `learning_rate` instead.\")\n"
          ],
          "name": "stderr"
        }
      ]
    },
    {
      "cell_type": "code",
      "metadata": {
        "id": "DkX9yUXXqwkI"
      },
      "source": [
        "early_stopping = tf.keras.callbacks.EarlyStopping(monitor='val_loss', patience=100)"
      ],
      "execution_count": 59,
      "outputs": []
    },
    {
      "cell_type": "code",
      "metadata": {
        "colab": {
          "base_uri": "https://localhost:8080/"
        },
        "id": "9cga_FHcq12Z",
        "outputId": "05e8d173-67f0-4c79-ba54-4cd1c1b006ee"
      },
      "source": [
        "numEpochs = 100\n",
        "#history = model.fit(trainFeatures, trainLabels, epochs=numEpochs,validation_data=(testFeatures,testLabels),callbacks=[early_stopping])\n",
        "history = model.fit(trainFeatures, trainLabels, epochs=numEpochs,validation_data=(testFeatures,testLabels))"
      ],
      "execution_count": 60,
      "outputs": [
        {
          "output_type": "stream",
          "text": [
            "Epoch 1/100\n",
            "23/23 [==============================] - 1s 10ms/step - loss: nan - accuracy: 0.6185 - val_loss: nan - val_accuracy: 0.5449\n",
            "Epoch 2/100\n",
            "23/23 [==============================] - 0s 4ms/step - loss: nan - accuracy: 0.6339 - val_loss: nan - val_accuracy: 0.5449\n",
            "Epoch 3/100\n",
            "23/23 [==============================] - 0s 4ms/step - loss: nan - accuracy: 0.6339 - val_loss: nan - val_accuracy: 0.5449\n",
            "Epoch 4/100\n",
            "23/23 [==============================] - 0s 4ms/step - loss: nan - accuracy: 0.6339 - val_loss: nan - val_accuracy: 0.5449\n",
            "Epoch 5/100\n",
            "23/23 [==============================] - 0s 4ms/step - loss: nan - accuracy: 0.6339 - val_loss: nan - val_accuracy: 0.5449\n",
            "Epoch 6/100\n",
            "23/23 [==============================] - 0s 4ms/step - loss: nan - accuracy: 0.6339 - val_loss: nan - val_accuracy: 0.5449\n",
            "Epoch 7/100\n",
            "23/23 [==============================] - 0s 4ms/step - loss: nan - accuracy: 0.6339 - val_loss: nan - val_accuracy: 0.5449\n",
            "Epoch 8/100\n",
            "23/23 [==============================] - 0s 4ms/step - loss: nan - accuracy: 0.6339 - val_loss: nan - val_accuracy: 0.5449\n",
            "Epoch 9/100\n",
            "23/23 [==============================] - 0s 4ms/step - loss: nan - accuracy: 0.6339 - val_loss: nan - val_accuracy: 0.5449\n",
            "Epoch 10/100\n",
            "23/23 [==============================] - 0s 4ms/step - loss: nan - accuracy: 0.6339 - val_loss: nan - val_accuracy: 0.5449\n",
            "Epoch 11/100\n",
            "23/23 [==============================] - 0s 4ms/step - loss: nan - accuracy: 0.6339 - val_loss: nan - val_accuracy: 0.5449\n",
            "Epoch 12/100\n",
            "23/23 [==============================] - 0s 4ms/step - loss: nan - accuracy: 0.6339 - val_loss: nan - val_accuracy: 0.5449\n",
            "Epoch 13/100\n",
            "23/23 [==============================] - 0s 4ms/step - loss: nan - accuracy: 0.6339 - val_loss: nan - val_accuracy: 0.5449\n",
            "Epoch 14/100\n",
            "23/23 [==============================] - 0s 4ms/step - loss: nan - accuracy: 0.6339 - val_loss: nan - val_accuracy: 0.5449\n",
            "Epoch 15/100\n",
            "23/23 [==============================] - 0s 4ms/step - loss: nan - accuracy: 0.6339 - val_loss: nan - val_accuracy: 0.5449\n",
            "Epoch 16/100\n",
            "23/23 [==============================] - 0s 4ms/step - loss: nan - accuracy: 0.6339 - val_loss: nan - val_accuracy: 0.5449\n",
            "Epoch 17/100\n",
            "23/23 [==============================] - 0s 4ms/step - loss: nan - accuracy: 0.6339 - val_loss: nan - val_accuracy: 0.5449\n",
            "Epoch 18/100\n",
            "23/23 [==============================] - 0s 4ms/step - loss: nan - accuracy: 0.6339 - val_loss: nan - val_accuracy: 0.5449\n",
            "Epoch 19/100\n",
            "23/23 [==============================] - 0s 4ms/step - loss: nan - accuracy: 0.6339 - val_loss: nan - val_accuracy: 0.5449\n",
            "Epoch 20/100\n",
            "23/23 [==============================] - 0s 4ms/step - loss: nan - accuracy: 0.6339 - val_loss: nan - val_accuracy: 0.5449\n",
            "Epoch 21/100\n",
            "23/23 [==============================] - 0s 5ms/step - loss: nan - accuracy: 0.6339 - val_loss: nan - val_accuracy: 0.5449\n",
            "Epoch 22/100\n",
            "23/23 [==============================] - 0s 4ms/step - loss: nan - accuracy: 0.6339 - val_loss: nan - val_accuracy: 0.5449\n",
            "Epoch 23/100\n",
            "23/23 [==============================] - 0s 4ms/step - loss: nan - accuracy: 0.6339 - val_loss: nan - val_accuracy: 0.5449\n",
            "Epoch 24/100\n",
            "23/23 [==============================] - 0s 4ms/step - loss: nan - accuracy: 0.6339 - val_loss: nan - val_accuracy: 0.5449\n",
            "Epoch 25/100\n",
            "23/23 [==============================] - 0s 4ms/step - loss: nan - accuracy: 0.6339 - val_loss: nan - val_accuracy: 0.5449\n",
            "Epoch 26/100\n",
            "23/23 [==============================] - 0s 5ms/step - loss: nan - accuracy: 0.6339 - val_loss: nan - val_accuracy: 0.5449\n",
            "Epoch 27/100\n",
            "23/23 [==============================] - 0s 4ms/step - loss: nan - accuracy: 0.6339 - val_loss: nan - val_accuracy: 0.5449\n",
            "Epoch 28/100\n",
            "23/23 [==============================] - 0s 4ms/step - loss: nan - accuracy: 0.6339 - val_loss: nan - val_accuracy: 0.5449\n",
            "Epoch 29/100\n",
            "23/23 [==============================] - 0s 4ms/step - loss: nan - accuracy: 0.6339 - val_loss: nan - val_accuracy: 0.5449\n",
            "Epoch 30/100\n",
            "23/23 [==============================] - 0s 4ms/step - loss: nan - accuracy: 0.6339 - val_loss: nan - val_accuracy: 0.5449\n",
            "Epoch 31/100\n",
            "23/23 [==============================] - 0s 4ms/step - loss: nan - accuracy: 0.6339 - val_loss: nan - val_accuracy: 0.5449\n",
            "Epoch 32/100\n",
            "23/23 [==============================] - 0s 4ms/step - loss: nan - accuracy: 0.6339 - val_loss: nan - val_accuracy: 0.5449\n",
            "Epoch 33/100\n",
            "23/23 [==============================] - 0s 4ms/step - loss: nan - accuracy: 0.6339 - val_loss: nan - val_accuracy: 0.5449\n",
            "Epoch 34/100\n",
            "23/23 [==============================] - 0s 4ms/step - loss: nan - accuracy: 0.6339 - val_loss: nan - val_accuracy: 0.5449\n",
            "Epoch 35/100\n",
            "23/23 [==============================] - 0s 4ms/step - loss: nan - accuracy: 0.6339 - val_loss: nan - val_accuracy: 0.5449\n",
            "Epoch 36/100\n",
            "23/23 [==============================] - 0s 4ms/step - loss: nan - accuracy: 0.6339 - val_loss: nan - val_accuracy: 0.5449\n",
            "Epoch 37/100\n",
            "23/23 [==============================] - 0s 4ms/step - loss: nan - accuracy: 0.6339 - val_loss: nan - val_accuracy: 0.5449\n",
            "Epoch 38/100\n",
            "23/23 [==============================] - 0s 4ms/step - loss: nan - accuracy: 0.6339 - val_loss: nan - val_accuracy: 0.5449\n",
            "Epoch 39/100\n",
            "23/23 [==============================] - 0s 4ms/step - loss: nan - accuracy: 0.6339 - val_loss: nan - val_accuracy: 0.5449\n",
            "Epoch 40/100\n",
            "23/23 [==============================] - 0s 4ms/step - loss: nan - accuracy: 0.6339 - val_loss: nan - val_accuracy: 0.5449\n",
            "Epoch 41/100\n",
            "23/23 [==============================] - 0s 4ms/step - loss: nan - accuracy: 0.6339 - val_loss: nan - val_accuracy: 0.5449\n",
            "Epoch 42/100\n",
            "23/23 [==============================] - 0s 4ms/step - loss: nan - accuracy: 0.6339 - val_loss: nan - val_accuracy: 0.5449\n",
            "Epoch 43/100\n",
            "23/23 [==============================] - 0s 5ms/step - loss: nan - accuracy: 0.6339 - val_loss: nan - val_accuracy: 0.5449\n",
            "Epoch 44/100\n",
            "23/23 [==============================] - 0s 4ms/step - loss: nan - accuracy: 0.6339 - val_loss: nan - val_accuracy: 0.5449\n",
            "Epoch 45/100\n",
            "23/23 [==============================] - 0s 4ms/step - loss: nan - accuracy: 0.6339 - val_loss: nan - val_accuracy: 0.5449\n",
            "Epoch 46/100\n",
            "23/23 [==============================] - 0s 5ms/step - loss: nan - accuracy: 0.6339 - val_loss: nan - val_accuracy: 0.5449\n",
            "Epoch 47/100\n",
            "23/23 [==============================] - 0s 4ms/step - loss: nan - accuracy: 0.6339 - val_loss: nan - val_accuracy: 0.5449\n",
            "Epoch 48/100\n",
            "23/23 [==============================] - 0s 4ms/step - loss: nan - accuracy: 0.6339 - val_loss: nan - val_accuracy: 0.5449\n",
            "Epoch 49/100\n",
            "23/23 [==============================] - 0s 4ms/step - loss: nan - accuracy: 0.6339 - val_loss: nan - val_accuracy: 0.5449\n",
            "Epoch 50/100\n",
            "23/23 [==============================] - 0s 4ms/step - loss: nan - accuracy: 0.6339 - val_loss: nan - val_accuracy: 0.5449\n",
            "Epoch 51/100\n",
            "23/23 [==============================] - 0s 4ms/step - loss: nan - accuracy: 0.6339 - val_loss: nan - val_accuracy: 0.5449\n",
            "Epoch 52/100\n",
            "23/23 [==============================] - 0s 4ms/step - loss: nan - accuracy: 0.6339 - val_loss: nan - val_accuracy: 0.5449\n",
            "Epoch 53/100\n",
            "23/23 [==============================] - 0s 4ms/step - loss: nan - accuracy: 0.6339 - val_loss: nan - val_accuracy: 0.5449\n",
            "Epoch 54/100\n",
            "23/23 [==============================] - 0s 4ms/step - loss: nan - accuracy: 0.6339 - val_loss: nan - val_accuracy: 0.5449\n",
            "Epoch 55/100\n",
            "23/23 [==============================] - 0s 4ms/step - loss: nan - accuracy: 0.6339 - val_loss: nan - val_accuracy: 0.5449\n",
            "Epoch 56/100\n",
            "23/23 [==============================] - 0s 4ms/step - loss: nan - accuracy: 0.6339 - val_loss: nan - val_accuracy: 0.5449\n",
            "Epoch 57/100\n",
            "23/23 [==============================] - 0s 4ms/step - loss: nan - accuracy: 0.6339 - val_loss: nan - val_accuracy: 0.5449\n",
            "Epoch 58/100\n",
            "23/23 [==============================] - 0s 4ms/step - loss: nan - accuracy: 0.6339 - val_loss: nan - val_accuracy: 0.5449\n",
            "Epoch 59/100\n",
            "23/23 [==============================] - 0s 4ms/step - loss: nan - accuracy: 0.6339 - val_loss: nan - val_accuracy: 0.5449\n",
            "Epoch 60/100\n",
            "23/23 [==============================] - 0s 4ms/step - loss: nan - accuracy: 0.6339 - val_loss: nan - val_accuracy: 0.5449\n",
            "Epoch 61/100\n",
            "23/23 [==============================] - 0s 4ms/step - loss: nan - accuracy: 0.6339 - val_loss: nan - val_accuracy: 0.5449\n",
            "Epoch 62/100\n",
            "23/23 [==============================] - 0s 4ms/step - loss: nan - accuracy: 0.6339 - val_loss: nan - val_accuracy: 0.5449\n",
            "Epoch 63/100\n",
            "23/23 [==============================] - 0s 4ms/step - loss: nan - accuracy: 0.6339 - val_loss: nan - val_accuracy: 0.5449\n",
            "Epoch 64/100\n",
            "23/23 [==============================] - 0s 4ms/step - loss: nan - accuracy: 0.6339 - val_loss: nan - val_accuracy: 0.5449\n",
            "Epoch 65/100\n",
            "23/23 [==============================] - 0s 4ms/step - loss: nan - accuracy: 0.6339 - val_loss: nan - val_accuracy: 0.5449\n",
            "Epoch 66/100\n",
            "23/23 [==============================] - 0s 4ms/step - loss: nan - accuracy: 0.6339 - val_loss: nan - val_accuracy: 0.5449\n",
            "Epoch 67/100\n",
            "23/23 [==============================] - 0s 4ms/step - loss: nan - accuracy: 0.6339 - val_loss: nan - val_accuracy: 0.5449\n",
            "Epoch 68/100\n",
            "23/23 [==============================] - 0s 4ms/step - loss: nan - accuracy: 0.6339 - val_loss: nan - val_accuracy: 0.5449\n",
            "Epoch 69/100\n",
            "23/23 [==============================] - 0s 4ms/step - loss: nan - accuracy: 0.6339 - val_loss: nan - val_accuracy: 0.5449\n",
            "Epoch 70/100\n",
            "23/23 [==============================] - 0s 4ms/step - loss: nan - accuracy: 0.6339 - val_loss: nan - val_accuracy: 0.5449\n",
            "Epoch 71/100\n",
            "23/23 [==============================] - 0s 4ms/step - loss: nan - accuracy: 0.6339 - val_loss: nan - val_accuracy: 0.5449\n",
            "Epoch 72/100\n",
            "23/23 [==============================] - 0s 12ms/step - loss: nan - accuracy: 0.6339 - val_loss: nan - val_accuracy: 0.5449\n",
            "Epoch 73/100\n",
            "23/23 [==============================] - 0s 4ms/step - loss: nan - accuracy: 0.6339 - val_loss: nan - val_accuracy: 0.5449\n",
            "Epoch 74/100\n",
            "23/23 [==============================] - 0s 4ms/step - loss: nan - accuracy: 0.6339 - val_loss: nan - val_accuracy: 0.5449\n",
            "Epoch 75/100\n",
            "23/23 [==============================] - 0s 4ms/step - loss: nan - accuracy: 0.6339 - val_loss: nan - val_accuracy: 0.5449\n",
            "Epoch 76/100\n",
            "23/23 [==============================] - 0s 5ms/step - loss: nan - accuracy: 0.6339 - val_loss: nan - val_accuracy: 0.5449\n",
            "Epoch 77/100\n",
            "23/23 [==============================] - 0s 4ms/step - loss: nan - accuracy: 0.6339 - val_loss: nan - val_accuracy: 0.5449\n",
            "Epoch 78/100\n",
            "23/23 [==============================] - 0s 4ms/step - loss: nan - accuracy: 0.6339 - val_loss: nan - val_accuracy: 0.5449\n",
            "Epoch 79/100\n",
            "23/23 [==============================] - 0s 4ms/step - loss: nan - accuracy: 0.6339 - val_loss: nan - val_accuracy: 0.5449\n",
            "Epoch 80/100\n",
            "23/23 [==============================] - 0s 4ms/step - loss: nan - accuracy: 0.6339 - val_loss: nan - val_accuracy: 0.5449\n",
            "Epoch 81/100\n",
            "23/23 [==============================] - 0s 4ms/step - loss: nan - accuracy: 0.6339 - val_loss: nan - val_accuracy: 0.5449\n",
            "Epoch 82/100\n",
            "23/23 [==============================] - 0s 4ms/step - loss: nan - accuracy: 0.6339 - val_loss: nan - val_accuracy: 0.5449\n",
            "Epoch 83/100\n",
            "23/23 [==============================] - 0s 4ms/step - loss: nan - accuracy: 0.6339 - val_loss: nan - val_accuracy: 0.5449\n",
            "Epoch 84/100\n",
            "23/23 [==============================] - 0s 4ms/step - loss: nan - accuracy: 0.6339 - val_loss: nan - val_accuracy: 0.5449\n",
            "Epoch 85/100\n",
            "23/23 [==============================] - 0s 4ms/step - loss: nan - accuracy: 0.6339 - val_loss: nan - val_accuracy: 0.5449\n",
            "Epoch 86/100\n",
            "23/23 [==============================] - 0s 4ms/step - loss: nan - accuracy: 0.6339 - val_loss: nan - val_accuracy: 0.5449\n",
            "Epoch 87/100\n",
            "23/23 [==============================] - 0s 4ms/step - loss: nan - accuracy: 0.6339 - val_loss: nan - val_accuracy: 0.5449\n",
            "Epoch 88/100\n",
            "23/23 [==============================] - 0s 4ms/step - loss: nan - accuracy: 0.6339 - val_loss: nan - val_accuracy: 0.5449\n",
            "Epoch 89/100\n",
            "23/23 [==============================] - 0s 4ms/step - loss: nan - accuracy: 0.6339 - val_loss: nan - val_accuracy: 0.5449\n",
            "Epoch 90/100\n",
            "23/23 [==============================] - 0s 4ms/step - loss: nan - accuracy: 0.6339 - val_loss: nan - val_accuracy: 0.5449\n",
            "Epoch 91/100\n",
            "23/23 [==============================] - 0s 4ms/step - loss: nan - accuracy: 0.6339 - val_loss: nan - val_accuracy: 0.5449\n",
            "Epoch 92/100\n",
            "23/23 [==============================] - 0s 4ms/step - loss: nan - accuracy: 0.6339 - val_loss: nan - val_accuracy: 0.5449\n",
            "Epoch 93/100\n",
            "23/23 [==============================] - 0s 4ms/step - loss: nan - accuracy: 0.6339 - val_loss: nan - val_accuracy: 0.5449\n",
            "Epoch 94/100\n",
            "23/23 [==============================] - 0s 4ms/step - loss: nan - accuracy: 0.6339 - val_loss: nan - val_accuracy: 0.5449\n",
            "Epoch 95/100\n",
            "23/23 [==============================] - 0s 4ms/step - loss: nan - accuracy: 0.6339 - val_loss: nan - val_accuracy: 0.5449\n",
            "Epoch 96/100\n",
            "23/23 [==============================] - 0s 5ms/step - loss: nan - accuracy: 0.6339 - val_loss: nan - val_accuracy: 0.5449\n",
            "Epoch 97/100\n",
            "23/23 [==============================] - 0s 4ms/step - loss: nan - accuracy: 0.6339 - val_loss: nan - val_accuracy: 0.5449\n",
            "Epoch 98/100\n",
            "23/23 [==============================] - 0s 4ms/step - loss: nan - accuracy: 0.6339 - val_loss: nan - val_accuracy: 0.5449\n",
            "Epoch 99/100\n",
            "23/23 [==============================] - 0s 4ms/step - loss: nan - accuracy: 0.6339 - val_loss: nan - val_accuracy: 0.5449\n",
            "Epoch 100/100\n",
            "23/23 [==============================] - 0s 4ms/step - loss: nan - accuracy: 0.6339 - val_loss: nan - val_accuracy: 0.5449\n"
          ],
          "name": "stdout"
        }
      ]
    },
    {
      "cell_type": "code",
      "metadata": {
        "colab": {
          "base_uri": "https://localhost:8080/",
          "height": 705
        },
        "id": "t3wP7CdPq5jI",
        "outputId": "2f6753dd-b645-45b3-8463-414d17aa41c2"
      },
      "source": [
        "def pltGr(history, string):\n",
        "  plt.plot(history.history[string])\n",
        "  plt.plot(history.history['val_'+string])\n",
        "  plt.xlabel('Epochs')\n",
        "  plt.ylabel(string)\n",
        "  plt.legend([string, 'val_'+string])\n",
        "  plt.show()\n",
        "\n",
        "\n",
        "pltGr(history, 'accuracy')\n",
        "pltGr(history, 'loss')"
      ],
      "execution_count": 61,
      "outputs": [
        {
          "output_type": "display_data",
          "data": {
            "image/png": "[encoded data removed]",
            "text/plain": [
              "<Figure size 576x396 with 1 Axes>"
            ]
          },
          "metadata": {
            "tags": []
          }
        },
        {
          "output_type": "display_data",
          "data": {
            "image/png": "[encoded data removed]",
            "text/plain": [
              "<Figure size 576x396 with 1 Axes>"
            ]
          },
          "metadata": {
            "tags": []
          }
        }
      ]
    },
    {
      "cell_type": "code",
      "metadata": {
        "id": "yRMSCPv-q_Yz"
      },
      "source": [
        "def predPlot(labels, preds):\n",
        "  plt.scatter(labels, preds)\n",
        "  plt.xlabel('True-Values/Labels')\n",
        "  plt.ylabel('Predicted-Values')\n",
        "  plt.axis('equal')\n",
        "  plt.axis('square')\n",
        "  #plt.xlim([0,plt.xlim()[1]])\n",
        "  #plt.ylim([0,plt.ylim()[1]])\n",
        "  #plt.plot([-100,100],[-100,100])\n",
        "  plt.show()"
      ],
      "execution_count": 62,
      "outputs": []
    },
    {
      "cell_type": "code",
      "metadata": {
        "colab": {
          "base_uri": "https://localhost:8080/",
          "height": 361
        },
        "id": "TG9tKtFyrFh5",
        "outputId": "aceac12c-c176-452d-b39f-074c97879e05"
      },
      "source": [
        "testPreds = model.predict(testFeatures).flatten()\n",
        "\n",
        "predPlot(testLabels, testPreds)"
      ],
      "execution_count": 63,
      "outputs": [
        {
          "output_type": "display_data",
          "data": {
            "image/png": "[encoded data removed]",
            "text/plain": [
              "<Figure size 576x396 with 1 Axes>"
            ]
          },
          "metadata": {
            "tags": []
          }
        }
      ]
    },
    {
      "cell_type": "code",
      "metadata": {
        "id": "YGyBCp2wrId8"
      },
      "source": [
        "def errorPlot(labels, preds, binVal):\n",
        "  err = preds - labels\n",
        "  plt.hist(err, bins=binVal)\n",
        "  plt.xlabel('Prediction-Error')\n",
        "  plt.ylabel('Count')\n",
        "  plt.show()"
      ],
      "execution_count": 64,
      "outputs": []
    },
    {
      "cell_type": "code",
      "metadata": {
        "id": "kcBHkQJUrOnV"
      },
      "source": [
        "# errorPlot(testLabels, testPreds, 100)"
      ],
      "execution_count": 66,
      "outputs": []
    }
  ]
}